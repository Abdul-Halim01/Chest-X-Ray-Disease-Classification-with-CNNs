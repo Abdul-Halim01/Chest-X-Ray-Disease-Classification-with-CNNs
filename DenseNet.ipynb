{
  "cells": [
    {
      "cell_type": "code",
      "execution_count": null,
      "metadata": {
        "colab": {
          "base_uri": "https://localhost:8080/"
        },
        "id": "aeNlZDfMEqz9",
        "outputId": "4ed56928-c580-4ef0-e073-fbc41937ab7d"
      },
      "outputs": [
        {
          "name": "stdout",
          "output_type": "stream",
          "text": [
            "Skipping, found downloaded files in \"./chest-x-ray-imagesmultiple-diseases\" (use force=True to force download)\n"
          ]
        }
      ],
      "source": [
        "# Step 1: Install opendatasets and download Chest X-Ray dataset\n",
        "!pip install opendatasets --quiet\n",
        "\n",
        "import opendatasets as od\n",
        "od.download(\"https://www.kaggle.com/datasets/pranavgautam29/chest-x-ray-imagesmultiple-diseases\")"
      ]
    },
    {
      "cell_type": "code",
      "execution_count": null,
      "metadata": {
        "id": "6N2GzRDoFKbI"
      },
      "outputs": [],
      "source": [
        "import os\n",
        "import numpy as np\n",
        "import tensorflow as tf\n",
        "from tensorflow.keras import layers, models\n",
        "from tensorflow.keras.applications import DenseNet121, EfficientNetB0\n",
        "from tensorflow.keras.applications.densenet import preprocess_input as densenet_preprocess\n",
        "from tensorflow.keras.applications.efficientnet import preprocess_input as efficientnet_preprocess\n",
        "from tensorflow.keras.preprocessing import image_dataset_from_directory\n",
        "from sklearn.metrics import classification_report, confusion_matrix\n",
        "import matplotlib.pyplot as plt\n",
        "\n",
        "# Configuration\n",
        "IMG_SIZE = (224, 224)\n",
        "BATCH_SIZE = 32\n",
        "EPOCHS = 10\n",
        "DATASET_DIR = \"./chest-x-ray-imagesmultiple-diseases/data\"\n"
      ]
    },
    {
      "cell_type": "code",
      "execution_count": null,
      "metadata": {
        "colab": {
          "base_uri": "https://localhost:8080/"
        },
        "id": "ZP-s6RmNFKYR",
        "outputId": "6862cacf-e0eb-487d-8032-d4ed9334f7ad"
      },
      "outputs": [
        {
          "name": "stdout",
          "output_type": "stream",
          "text": [
            "Categories: ['Tuberculosis', 'Pneumothorax', 'Normal', 'Pneumonia', 'Covid']\n"
          ]
        }
      ],
      "source": [
        "# 2. List categories (folders)\n",
        "categories = [cat for cat in os.listdir(DATASET_DIR) if os.path.isdir(os.path.join(DATASET_DIR, cat))]\n",
        "print(\"Categories:\", categories)\n"
      ]
    },
    {
      "cell_type": "code",
      "execution_count": null,
      "metadata": {
        "colab": {
          "base_uri": "https://localhost:8080/"
        },
        "id": "6kIVvyEXFKFk",
        "outputId": "b67a911f-751d-421b-f4a5-69cd21776b9c"
      },
      "outputs": [
        {
          "name": "stdout",
          "output_type": "stream",
          "text": [
            "Number of images per category: {'Tuberculosis': 700, 'Pneumothorax': 1012, 'Normal': 1118, 'Pneumonia': 1246, 'Covid': 377}\n"
          ]
        }
      ],
      "source": [
        "# 3. Count images in each category\n",
        "class_counts = {}\n",
        "for category in categories:\n",
        "    category_path = os.path.join(DATASET_DIR, category)\n",
        "    class_counts[category] = len([img for img in os.listdir(category_path) if os.path.isfile(os.path.join(category_path, img))])\n",
        "print(\"Number of images per category:\", class_counts)\n"
      ]
    },
    {
      "cell_type": "code",
      "execution_count": null,
      "metadata": {
        "colab": {
          "base_uri": "https://localhost:8080/",
          "height": 487
        },
        "id": "boFeJFsBFKAC",
        "outputId": "fba72d29-a374-4901-e76b-018630d5244b"
      },
      "outputs": [
        {
          "data": {
            "image/png": "[encoded data removed]",
            "text/plain": [
              "<Figure size 800x500 with 1 Axes>"
            ]
          },
          "metadata": {},
          "output_type": "display_data"
        }
      ],
      "source": [
        "# 4. Plot class distribution\n",
        "plt.figure(figsize=(8,5))\n",
        "plt.bar(class_counts.keys(), class_counts.values(), color='skyblue')\n",
        "plt.title('Image count per category')\n",
        "plt.xlabel('Category')\n",
        "plt.ylabel('Number of images')\n",
        "plt.show()\n"
      ]
    },
    {
      "cell_type": "code",
      "execution_count": null,
      "metadata": {
        "colab": {
          "base_uri": "https://localhost:8080/"
        },
        "id": "wkg7DZ6pGsSL",
        "outputId": "f0a61182-6a5f-4f47-cd44-9bb50cfe3f30"
      },
      "outputs": [
        {
          "name": "stdout",
          "output_type": "stream",
          "text": [
            "✅ Dataset successfully split into Source_data/train, val, test\n"
          ]
        }
      ],
      "source": [
        "import os\n",
        "import shutil\n",
        "import random\n",
        "\n",
        "# Source and target directories\n",
        "source_dir = \"chest-x-ray-imagesmultiple-diseases/data\"\n",
        "target_dir = \"Source_data\"\n",
        "classes = ['Covid', 'Normal', 'Pneumonia', 'Pneumothorax', 'Tuberculosis']\n",
        "\n",
        "# Ratios\n",
        "train_split = 0.7\n",
        "val_split = 0.15\n",
        "test_split = 0.15\n",
        "\n",
        "# Create destination folders\n",
        "for split in ['train', 'val', 'test']:\n",
        "    for cls in classes:\n",
        "        os.makedirs(os.path.join(target_dir, split, cls), exist_ok=True)\n",
        "\n",
        "# Split and move images\n",
        "for cls in classes:\n",
        "    cls_source = os.path.join(source_dir, cls)\n",
        "    images = os.listdir(cls_source)\n",
        "    random.shuffle(images)\n",
        "\n",
        "    n_total = len(images)\n",
        "    n_train = int(train_split * n_total)\n",
        "    n_val   = int(val_split * n_total)\n",
        "\n",
        "    train_imgs = images[:n_train]\n",
        "    val_imgs   = images[n_train:n_train + n_val]\n",
        "    test_imgs  = images[n_train + n_val:]\n",
        "\n",
        "    for img_name in train_imgs:\n",
        "        shutil.copy(\n",
        "            os.path.join(cls_source, img_name),\n",
        "            os.path.join(target_dir, 'train', cls, img_name)\n",
        "        )\n",
        "\n",
        "    for img_name in val_imgs:\n",
        "        shutil.copy(\n",
        "            os.path.join(cls_source, img_name),\n",
        "            os.path.join(target_dir, 'val', cls, img_name)\n",
        "        )\n",
        "\n",
        "    for img_name in test_imgs:\n",
        "        shutil.copy(\n",
        "            os.path.join(cls_source, img_name),\n",
        "            os.path.join(target_dir, 'test', cls, img_name)\n",
        "        )\n",
        "\n",
        "print(\"✅ Dataset successfully split into Source_data/train, val, test\")\n"
      ]
    },
    {
      "cell_type": "code",
      "execution_count": null,
      "metadata": {
        "id": "k2e8gqTqHeuN"
      },
      "outputs": [],
      "source": [
        "# Configuration\n",
        "IMG_SIZE = (224, 224)\n",
        "BATCH_SIZE = 32\n",
        "EPOCHS = 10\n",
        "FINE_TUNE_EPOCHS = 5\n",
        "DATASET_DIR = \"Source_data\""
      ]
    },
    {
      "cell_type": "code",
      "execution_count": null,
      "metadata": {
        "colab": {
          "base_uri": "https://localhost:8080/"
        },
        "id": "UGAS2UmrFJ9J",
        "outputId": "39740ddd-e88f-41f6-dcd4-a91e666159f9"
      },
      "outputs": [
        {
          "name": "stdout",
          "output_type": "stream",
          "text": [
            "Found 3114 files belonging to 5 classes.\n",
            "Found 664 files belonging to 5 classes.\n",
            "Found 674 files belonging to 5 classes.\n"
          ]
        }
      ],
      "source": [
        "# STEP 1: LOAD DATA\n",
        "# ===============================\n",
        "train_ds = tf.keras.preprocessing.image_dataset_from_directory(\n",
        "    os.path.join(DATASET_DIR, 'train'),\n",
        "    image_size=IMG_SIZE,\n",
        "    batch_size=BATCH_SIZE\n",
        ")\n",
        "val_ds = tf.keras.preprocessing.image_dataset_from_directory(\n",
        "    os.path.join(DATASET_DIR, 'val'),\n",
        "    image_size=IMG_SIZE,\n",
        "    batch_size=BATCH_SIZE\n",
        ")\n",
        "test_ds = tf.keras.preprocessing.image_dataset_from_directory(\n",
        "    os.path.join(DATASET_DIR, 'test'),\n",
        "    image_size=IMG_SIZE,\n",
        "    batch_size=BATCH_SIZE,\n",
        "    shuffle=False\n",
        ")\n",
        "\n",
        "class_names = train_ds.class_names\n",
        "NUM_CLASSES = len(class_names)"
      ]
    },
    {
      "cell_type": "code",
      "execution_count": null,
      "metadata": {
        "id": "blrfc5iLI3FT"
      },
      "outputs": [],
      "source": [
        "# Prefetch\n",
        "AUTOTUNE = tf.data.AUTOTUNE\n",
        "train_ds = train_ds.prefetch(buffer_size=AUTOTUNE)\n",
        "val_ds = val_ds.prefetch(buffer_size=AUTOTUNE)\n",
        "test_ds = test_ds.prefetch(buffer_size=AUTOTUNE)\n"
      ]
    },
    {
      "cell_type": "code",
      "execution_count": null,
      "metadata": {
        "id": "hk4yeT95J4Dr"
      },
      "outputs": [],
      "source": [
        "# STEP 2: DATA AUGMENTATION\n",
        "# ===============================\n",
        "data_augmentation = tf.keras.Sequential([\n",
        "    layers.RandomFlip(\"horizontal\"),\n",
        "    layers.RandomRotation(0.1),\n",
        "    layers.RandomZoom(0.1),\n",
        "])\n"
      ]
    },
    {
      "cell_type": "code",
      "execution_count": null,
      "metadata": {
        "id": "lwhVAj1VFJzV"
      },
      "outputs": [],
      "source": []
    },
    {
      "cell_type": "code",
      "execution_count": null,
      "metadata": {
        "colab": {
          "base_uri": "https://localhost:8080/"
        },
        "id": "Sm2lQw0fJ-8Z",
        "outputId": "5479feec-4b67-4413-c3a4-fda6059b4fa3"
      },
      "outputs": [
        {
          "name": "stdout",
          "output_type": "stream",
          "text": [
            "Downloading data from https://storage.googleapis.com/tensorflow/keras-applications/densenet/densenet121_weights_tf_dim_ordering_tf_kernels_notop.h5\n",
            "\u001b[1m29084464/29084464\u001b[0m \u001b[32m━━━━━━━━━━━━━━━━━━━━\u001b[0m\u001b[37m\u001b[0m \u001b[1m1s\u001b[0m 0us/step\n"
          ]
        }
      ],
      "source": [
        "# STEP 3: BUILD DenseNet121 MODEL\n",
        "# ===============================\n",
        "base_densenet = DenseNet121(\n",
        "    include_top=False,\n",
        "    weights='imagenet',\n",
        "    input_shape=(*IMG_SIZE, 3)\n",
        ")\n",
        "base_densenet.trainable = False\n",
        "\n",
        "shebam_model_densenet = models.Sequential([\n",
        "    data_augmentation,\n",
        "    layers.Lambda(tf.keras.applications.densenet.preprocess_input),\n",
        "    base_densenet,\n",
        "    layers.GlobalAveragePooling2D(),\n",
        "    layers.Dropout(0.5),\n",
        "    layers.Dense(256, activation='relu'),\n",
        "    layers.Dense(NUM_CLASSES, activation='softmax')\n",
        "])\n",
        "\n",
        "shebam_model_densenet.compile(\n",
        "    optimizer='adam',\n",
        "    loss='sparse_categorical_crossentropy',\n",
        "    metrics=['accuracy']\n",
        ")"
      ]
    },
    {
      "cell_type": "code",
      "execution_count": null,
      "metadata": {
        "id": "vCnl_-gcyVMY"
      },
      "outputs": [],
      "source": [
        "early_stop = tf.keras.callbacks.EarlyStopping(patience=3, restore_best_weights=True)\n",
        "lr_scheduler = tf.keras.callbacks.ReduceLROnPlateau(monitor='val_loss', factor=0.5, patience=2, min_lr=1e-6)\n"
      ]
    },
    {
      "cell_type": "code",
      "execution_count": null,
      "metadata": {
        "colab": {
          "background_save": true,
          "base_uri": "https://localhost:8080/"
        },
        "id": "hLDlRz8MypSQ",
        "outputId": "616e2a93-ae2a-406b-8f2b-d7743b32ed9b"
      },
      "outputs": [
        {
          "output_type": "stream",
          "name": "stdout",
          "text": [
            "Training DenseNet-121...\n",
            "Epoch 1/10\n",
            "\u001b[1m98/98\u001b[0m \u001b[32m━━━━━━━━━━━━━━━━━━━━\u001b[0m\u001b[37m\u001b[0m \u001b[1m749s\u001b[0m 7s/step - accuracy: 0.5384 - loss: 1.2498 - val_accuracy: 0.6973 - val_loss: 0.6253 - learning_rate: 0.0010\n",
            "Epoch 2/10\n",
            "\u001b[1m98/98\u001b[0m \u001b[32m━━━━━━━━━━━━━━━━━━━━\u001b[0m\u001b[37m\u001b[0m \u001b[1m721s\u001b[0m 7s/step - accuracy: 0.7180 - loss: 0.7058 - val_accuracy: 0.8087 - val_loss: 0.4728 - learning_rate: 0.0010\n",
            "Epoch 3/10\n",
            "\u001b[1m98/98\u001b[0m \u001b[32m━━━━━━━━━━━━━━━━━━━━\u001b[0m\u001b[37m\u001b[0m \u001b[1m741s\u001b[0m 7s/step - accuracy: 0.7410 - loss: 0.6454 - val_accuracy: 0.8208 - val_loss: 0.4805 - learning_rate: 0.0010\n",
            "Epoch 4/10\n",
            "\u001b[1m 7/98\u001b[0m \u001b[32m━\u001b[0m\u001b[37m━━━━━━━━━━━━━━━━━━━\u001b[0m \u001b[1m8:29\u001b[0m 6s/step - accuracy: 0.8371 - loss: 0.4470"
          ]
        }
      ],
      "source": [
        "\n",
        "print(\"Training DenseNet-121...\")\n",
        "history_dense = shebam_model_densenet.fit(\n",
        "    train_ds,\n",
        "    validation_data=val_ds,\n",
        "    epochs=EPOCHS,\n",
        "    callbacks=[early_stop, lr_scheduler]\n",
        ")"
      ]
    },
    {
      "cell_type": "code",
      "execution_count": null,
      "metadata": {
        "id": "AdA3UDuIJBEj"
      },
      "outputs": [],
      "source": []
    },
    {
      "cell_type": "code",
      "execution_count": null,
      "metadata": {
        "id": "paw5xGUWP5mn"
      },
      "outputs": [],
      "source": [
        "# STEP 6: FINE-TUNING BOTH MODELS\n",
        "# ===============================\n",
        "# Fine-tune DenseNet\n",
        "base_densenet.trainable = True\n",
        "for layer in base_densenet.layers[:int(len(base_densenet.layers) * 0.7)]:\n",
        "    layer.trainable = False\n",
        "shebam_model_densenet.compile(\n",
        "    optimizer=tf.keras.optimizers.Adam(1e-5),\n",
        "    loss='sparse_categorical_crossentropy',\n",
        "    metrics=['accuracy']\n",
        ")\n",
        "shebam_model_densenet.fit(\n",
        "    train_ds,\n",
        "    validation_data=val_ds,\n",
        "    epochs=EPOCHS + FINE_TUNE_EPOCHS,\n",
        "    initial_epoch=EPOCHS,\n",
        "    callbacks=[early_stop, lr_scheduler]\n",
        ")\n"
      ]
    },
    {
      "cell_type": "code",
      "execution_count": null,
      "metadata": {
        "id": "1KaiWnBMy85n"
      },
      "outputs": [],
      "source": [
        "# STEP 7: EVALUATE AND COMPARE\n",
        "# ===============================\n",
        "print(\"Evaluating DenseNet-121...\")\n",
        "dense_loss, dense_acc = shebam_model_densenet.evaluate(test_ds)\n",
        "\n",
        "print(f\"\\nDenseNet-121 Test Accuracy: {dense_acc:.4f}\")\n",
        "\n",
        "# Classification Reports\n",
        "y_true = np.concatenate([y for x, y in test_ds])\n",
        "y_pred_dense = np.argmax(shebam_model_densenet.predict(test_ds), axis=1)\n",
        "\n",
        "print(\"\\nDenseNet-121 Classification Report:\")\n",
        "print(classification_report(y_true, y_pred_dense, target_names=class_names))\n"
      ]
    },
    {
      "cell_type": "code",
      "execution_count": null,
      "metadata": {
        "id": "dGn6PYKqJA8l"
      },
      "outputs": [],
      "source": []
    },
    {
      "cell_type": "code",
      "execution_count": null,
      "metadata": {
        "id": "8VBIy6guJA5Z"
      },
      "outputs": [],
      "source": [
        "shebam_model_densenet.save(\"shebam_model_densenet_finetuned.h5\")\n",
        "print(\"Model saved\")"
      ]
    },
    {
      "cell_type": "code",
      "execution_count": null,
      "metadata": {
        "id": "iVTPp8uzG8Cb"
      },
      "outputs": [],
      "source": []
    },
    {
      "cell_type": "code",
      "execution_count": null,
      "metadata": {
        "id": "toOM8KwqHDzG"
      },
      "outputs": [],
      "source": []
    },
    {
      "cell_type": "code",
      "execution_count": null,
      "metadata": {
        "id": "2rfjpO4sHDv1"
      },
      "outputs": [],
      "source": []
    },
    {
      "cell_type": "code",
      "execution_count": null,
      "metadata": {
        "id": "P-bZkeniHDsT"
      },
      "outputs": [],
      "source": []
    }
  ],
  "metadata": {
    "colab": {
      "provenance": []
    },
    "kernelspec": {
      "display_name": "Python 3",
      "name": "python3"
    },
    "language_info": {
      "name": "python"
    }
  },
  "nbformat": 4,
  "nbformat_minor": 0
}